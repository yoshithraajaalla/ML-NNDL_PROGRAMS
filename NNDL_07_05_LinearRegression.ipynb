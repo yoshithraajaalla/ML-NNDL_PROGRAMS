{
  "nbformat": 4,
  "nbformat_minor": 0,
  "metadata": {
    "colab": {
      "provenance": []
    },
    "kernelspec": {
      "name": "python3",
      "display_name": "Python 3"
    },
    "language_info": {
      "name": "python"
    }
  },
  "cells": [
    {
      "cell_type": "code",
      "execution_count": 2,
      "metadata": {
        "id": "E6sZ7DrcppMb"
      },
      "outputs": [],
      "source": [
        "def linear_regression(x,y):\n",
        "  n = len(x)\n",
        "  x_sum = sum(x)\n",
        "  y_sum = sum(y)\n",
        "  xy_sum = sum([xi*yi for xi,yi in zip(x,y)])\n",
        "  x_squared_sum = sum([xi**2 for xi in x])\n",
        "\n",
        "  #Calculate b1(or slope) and b0(or intercept)\n",
        "  b1 = (n*xy_sum - x_sum*y_sum)/(n*x_squared_sum - x_sum**2)\n",
        "  b0 = (y_sum-b1*x_sum)/n\n",
        "\n",
        "  return b1, b0"
      ]
    },
    {
      "cell_type": "code",
      "source": [
        "x = [5,6,8,10]\n",
        "y = [11,11,15,24]\n",
        "\n",
        "b1, b0 = linear_regression(x,y)"
      ],
      "metadata": {
        "id": "ZYPFPbtlMcqt"
      },
      "execution_count": 3,
      "outputs": []
    },
    {
      "cell_type": "code",
      "source": [
        "print(\"Slope -\",b1)"
      ],
      "metadata": {
        "colab": {
          "base_uri": "https://localhost:8080/"
        },
        "id": "kvXbD0I4MzE5",
        "outputId": "7e549173-c9e4-48c3-b151-d1fd4d1e5329"
      },
      "execution_count": 8,
      "outputs": [
        {
          "output_type": "stream",
          "name": "stdout",
          "text": [
            "Slope - 2.6271186440677967\n"
          ]
        }
      ]
    },
    {
      "cell_type": "code",
      "source": [
        "print(\"Intercept -\",b0)"
      ],
      "metadata": {
        "colab": {
          "base_uri": "https://localhost:8080/"
        },
        "id": "8NLTX-GIMgRr",
        "outputId": "fd6fd63e-6434-40ac-ae35-c741adc81873"
      },
      "execution_count": 10,
      "outputs": [
        {
          "output_type": "stream",
          "name": "stdout",
          "text": [
            "Intercept - -3.796610169491526\n"
          ]
        }
      ]
    }
  ]
}