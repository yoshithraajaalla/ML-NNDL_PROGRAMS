{
  "nbformat": 4,
  "nbformat_minor": 0,
  "metadata": {
    "colab": {
      "provenance": []
    },
    "kernelspec": {
      "name": "python3",
      "display_name": "Python 3"
    },
    "language_info": {
      "name": "python"
    }
  },
  "cells": [
    {
      "cell_type": "code",
      "execution_count": 31,
      "metadata": {
        "id": "qHNeASuMoES6"
      },
      "outputs": [],
      "source": [
        "# importing library\n",
        "import numpy as np"
      ]
    },
    {
      "cell_type": "code",
      "source": [
        "X = np.asarray([[0,0],[0,1],[1,0],[1,1]])\n",
        "# This is the required output [0,0,0,1]\n",
        "W = np.asarray([1,1])\n",
        "\n",
        "y_pred = np.asarray([0,0,0,0])"
      ],
      "metadata": {
        "id": "TPUZEV5XpM4r"
      },
      "execution_count": 32,
      "outputs": []
    },
    {
      "cell_type": "code",
      "source": [
        "# STEP Function\n",
        "def step(NW,n):\n",
        "  if (NW[n]>=1.5):\n",
        "    return 1\n",
        "  else:\n",
        "    return 0"
      ],
      "metadata": {
        "id": "p1jM-vF2qiMM"
      },
      "execution_count": 33,
      "outputs": []
    },
    {
      "cell_type": "code",
      "source": [
        "# Final Loop to get y_pred\n",
        "for i in range(X.shape[0]):\n",
        "  x = X[i]\n",
        "  wsum = np.dot(X,W)\n",
        "  y_pred[i] = step(wsum,i)\n",
        "\n",
        "print(y_pred) #Expected Output: [0,0,0,1]"
      ],
      "metadata": {
        "colab": {
          "base_uri": "https://localhost:8080/"
        },
        "id": "dDdISqPvrIXC",
        "outputId": "e137974e-c67a-4cc3-a10f-2413379c54f4"
      },
      "execution_count": 34,
      "outputs": [
        {
          "output_type": "stream",
          "name": "stdout",
          "text": [
            "[0 0 0 1]\n"
          ]
        }
      ]
    }
  ]
}