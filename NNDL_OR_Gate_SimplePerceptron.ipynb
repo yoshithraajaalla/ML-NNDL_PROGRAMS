{
  "nbformat": 4,
  "nbformat_minor": 0,
  "metadata": {
    "colab": {
      "provenance": [],
      "authorship_tag": "ABX9TyNX/+4N0uhhoMrDrQXeNS42"
    },
    "kernelspec": {
      "name": "python3",
      "display_name": "Python 3"
    },
    "language_info": {
      "name": "python"
    }
  },
  "cells": [
    {
      "cell_type": "code",
      "execution_count": 1,
      "metadata": {
        "id": "qHNeASuMoES6"
      },
      "outputs": [],
      "source": [
        "# Importing library\n",
        "import numpy as np"
      ]
    },
    {
      "cell_type": "code",
      "source": [
        "#Initializing variables for OR Gate\n",
        "X = np.asarray([[0,0],[0,1],[1,0],[1,1]])\n",
        "W = np.asarray([1,1])\n",
        "Wsum_Arr = np.dot(X,W)\n",
        "Theta = 1\n",
        "\n",
        "y_pred = np.asarray([0,0,0,0])"
      ],
      "metadata": {
        "id": "TPUZEV5XpM4r"
      },
      "execution_count": 6,
      "outputs": []
    },
    {
      "cell_type": "code",
      "source": [
        "# STEP Function\n",
        "def step(NW,n):\n",
        "  if (NW[n]>=Theta):\n",
        "    return 1\n",
        "  else:\n",
        "    return 0"
      ],
      "metadata": {
        "id": "p1jM-vF2qiMM"
      },
      "execution_count": 3,
      "outputs": []
    },
    {
      "cell_type": "code",
      "source": [
        "for i in range(X.shape[0]):\n",
        "  y_pred[i] = step(Wsum_Arr,i)\n",
        "\n",
        "print(y_pred) #Expected Output: [0,1,1,1]"
      ],
      "metadata": {
        "colab": {
          "base_uri": "https://localhost:8080/"
        },
        "id": "dDdISqPvrIXC",
        "outputId": "333fd652-788b-4c2d-f767-1dbeff012bf2"
      },
      "execution_count": 5,
      "outputs": [
        {
          "output_type": "stream",
          "name": "stdout",
          "text": [
            "[0 1 1 1]\n"
          ]
        }
      ]
    }
  ]
}